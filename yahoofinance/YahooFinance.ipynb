{
 "cells": [
  {
   "cell_type": "markdown",
   "metadata": {},
   "source": [
    "# Security Scraper tutorial"
   ]
  },
  {
   "cell_type": "code",
   "execution_count": null,
   "metadata": {},
   "outputs": [],
   "source": [
    "import matplotlib.pyplot as plt\n",
    "\n",
    "from yf_price import price_data\n",
    "from utils import *\n",
    "from plot_utils import *"
   ]
  },
  {
   "cell_type": "markdown",
   "metadata": {},
   "source": [
    "##### Given a stock, a start date, an end date, and the reporting interval (cadence); we can fetch the security data from yahoo finance."
   ]
  },
  {
   "cell_type": "code",
   "execution_count": null,
   "metadata": {},
   "outputs": [],
   "source": [
    "stock = 'LMT'\n",
    "start = str_to_UT('2021-07-15 00:00:00', timezone='US/Eastern')\n",
    "end = str_to_UT('2021-07-16 00:00:00', timezone='US/Eastern')\n",
    "interval = '5m'\n",
    "\n",
    "yf_pd = price_data(stock, start, end, interval)"
   ]
  },
  {
   "cell_type": "markdown",
   "metadata": {},
   "source": [
    "##### We can make a candle plot of the security with the built in plotting utilities, by passing the variable 'candle' to the plot() method."
   ]
  },
  {
   "cell_type": "code",
   "execution_count": null,
   "metadata": {},
   "outputs": [],
   "source": [
    "with plt.style.context('bmh'):\n",
    "    fig, ax = plt.subplots(figsize=set_figsize(513))\n",
    "    yf_pd.plot(fig, ax, 'candle')\n",
    "    fig.tight_layout()"
   ]
  },
  {
   "cell_type": "markdown",
   "metadata": {},
   "source": [
    "##### Fetch another ticker at the highest cadence with Pre and Post market data"
   ]
  },
  {
   "cell_type": "code",
   "execution_count": null,
   "metadata": {},
   "outputs": [],
   "source": [
    "stock = 'PLTR'\n",
    "start = str_to_UT('2021-07-15 00:00:00', timezone='US/Eastern')\n",
    "end = str_to_UT('2021-07-16 00:00:00', timezone='US/Eastern')\n",
    "interval = '1m'\n",
    "\n",
    "yf_pd = price_data(stock, start, end, interval, PrePost=True)"
   ]
  },
  {
   "cell_type": "markdown",
   "metadata": {},
   "source": [
    "##### Here we run all of the basic analysis that comes with the module"
   ]
  },
  {
   "cell_type": "code",
   "execution_count": null,
   "metadata": {},
   "outputs": [],
   "source": [
    "# Calculate On Balance Volume\n",
    "yf_pd.OBV()\n",
    "# Calculate Moving Average\n",
    "yf_pd.MA(60)\n",
    "# Calculate Exponential Moving Average\n",
    "yf_pd.EMA(120)\n",
    "# Calculate Moving Average Convergence Divergence\n",
    "yf_pd.MACD(short_span=30, long_span=360, signal_span=120)\n",
    "# Calculate Return On Investment\n",
    "yf_pd.ROI()\n",
    "# Calculate Relative Change\n",
    "yf_pd.RC()\n",
    "# Calculate pivot, support, and resistance points\n",
    "yf_pd.pivot_points(pivot_interval='1h')"
   ]
  },
  {
   "cell_type": "markdown",
   "metadata": {},
   "source": [
    "##### From our basic analysis we can make a plot of a Moving Average with the support/resistance lines"
   ]
  },
  {
   "cell_type": "code",
   "execution_count": null,
   "metadata": {},
   "outputs": [],
   "source": [
    "with plt.style.context('bmh'):\n",
    "    fig, ax = plt.subplots(figsize=set_figsize(513))\n",
    "    yf_pd.plot(fig, ax, 'close', npivots=3, label='Price', c=cc[0], lw=1)\n",
    "    yf_pd.plot(fig, ax, 'MA', label='1h Moving Average', c=cc[1], lw=1)\n",
    "    ax.legend()\n",
    "    fig.tight_layout()"
   ]
  },
  {
   "cell_type": "markdown",
   "metadata": {},
   "source": [
    "##### Here we also plot the MACD statistic, which is the standard MACD minus the signal. We've color code the background to indicate when MACD is suggesting to buy (green) vs sell (red)"
   ]
  },
  {
   "cell_type": "code",
   "execution_count": null,
   "metadata": {},
   "outputs": [],
   "source": [
    "zero_crossings = list(\n",
    "    np.where(np.diff(np.sign(yf_pd.data['MACD_sig'])))[0])+[-1]\n",
    "\n",
    "with plt.style.context('bmh'):\n",
    "    fig, ax = plt.subplots(2, 1, sharex=True, figsize=set_figsize(513),\n",
    "                           gridspec_kw={'height_ratios': [3, 1]})\n",
    "    yf_pd.plot(fig, ax[0], 'close', marker='.', label='Price',\n",
    "               c=cc[0], ms=1, lw=1)\n",
    "    yf_pd.plot(fig, ax[0], 'MA', marker='.', label='1h Moving Average',\n",
    "               c=cc[1], ms=1, lw=1)\n",
    "    yf_pd.plot(fig, ax[1], 'MACD_sig', marker='.', label='MACD-Signal',\n",
    "               c=cc[0], ms=1, lw=1)\n",
    "    ax[1].axhline(0, ls='--', c='r', lw=1, zorder=-1)\n",
    "    ax[1].set_ylim([-1.03, 1.03])\n",
    "\n",
    "    ax0_ylim, ax1_ylim = ax[0].get_ylim(), ax[1].get_ylim()\n",
    "    colors = ['g', 'r']\n",
    "    if np.sign(yf_pd.data['MACD_sig'].iloc[1]) < 0:\n",
    "        colors, suggestions = colors[::-1], suggestions[::-1]\n",
    "    for d in range(len(zero_crossings)-1):\n",
    "        l, u = zero_crossings[d], zero_crossings[d+1]\n",
    "        l, u = yf_pd.data.index[l], yf_pd.data.index[u]\n",
    "        ax[0].fill_betweenx(ax0_ylim, l, u, alpha=0.1, color=colors[d%2],\n",
    "                            zorder=-1)\n",
    "        ax[1].fill_betweenx(ax1_ylim, l, u, alpha=0.1, color=colors[d%2],\n",
    "                            zorder=-1)\n",
    "    ax[0].legend(ncol=2)\n",
    "    ax[0].set_ylabel('USD')\n",
    "    ax[1].set_ylabel('MACD')\n",
    "    ax[0].set_ylim(ax0_ylim)\n",
    "    ax[1].set_ylim(ax1_ylim)\n",
    "    ax[0].set_xlim([yf_pd.data.index[0], yf_pd.data.index[-1]])\n",
    "    ax[1].set_xlim([yf_pd.data.index[0], yf_pd.data.index[-1]])\n",
    "    ax[1].set_yticks([-1, 0, 1])\n",
    "    fig.tight_layout()"
   ]
  },
  {
   "cell_type": "markdown",
   "metadata": {},
   "source": [
    "##### Using MACD as the solo indicator is pretty lousy. Here we model buying `bvel` at every MACD buy interval, and selling `svel` at every MACD sell interval—closing out at end. This requires some finitely determine capital to achieve. We show the return on buying and holding with this capital, selling only at the end. "
   ]
  },
  {
   "cell_type": "code",
   "execution_count": null,
   "metadata": {},
   "outputs": [],
   "source": [
    "bvel, svel = 1, 1\n",
    "capt, hold, capt_req = 0, 0, 0\n",
    "for d, day in enumerate(yf_pd.data.index):\n",
    "    price = yf_pd.data['close'].iloc[d]\n",
    "    if yf_pd.data['MACD_sig'].iloc[d] > 0:\n",
    "        hold += bvel\n",
    "        capt -= bvel*price\n",
    "    elif yf_pd.data['MACD_sig'].iloc[d] < 0 and hold >= 1:\n",
    "        sell = (hold if hold <= svel else svel)\n",
    "        hold -= sell\n",
    "        capt += sell*price\n",
    "    if capt < capt_req:\n",
    "        capt_req = capt\n",
    "print(f\"Capital Required: ${-capt_req:.2f}\")\n",
    "print(f\"Daily MACD Return: ${capt+hold*price:.2f}\")\n",
    "print(f\"Buy and Hold Return: ${-capt_req*(yf_pd.data['ROI'].iloc[-1]):.2f}\")"
   ]
  },
  {
   "cell_type": "markdown",
   "metadata": {},
   "source": [
    "##### Here we show how to run analysis over multiple tickers at once"
   ]
  },
  {
   "cell_type": "code",
   "execution_count": null,
   "metadata": {},
   "outputs": [],
   "source": [
    "stock = ['BA', 'AAPL', 'VTSAX']\n",
    "start = str_to_UT('2021-01-01 00:00:00', timezone='US/Eastern')\n",
    "end = str_to_UT('2021-07-16 00:00:00', timezone='US/Eastern')\n",
    "interval = '1d'\n",
    "\n",
    "yf_pd = price_data(stock, start, end, interval, PrePost=True)\n",
    "# Calculate On Balance Volume\n",
    "yf_pd.OBV()\n",
    "# Calculate Moving Average\n",
    "yf_pd.MA(5)\n",
    "# Calculate Exponential Moving Average\n",
    "yf_pd.EMA(9)\n",
    "# Calculate Moving Average Convergence Divergence\n",
    "yf_pd.MACD()\n",
    "# Calculate Return On Investment\n",
    "yf_pd.ROI()\n",
    "# Calculate Relative Change\n",
    "yf_pd.RC()\n",
    "# Calculate pivot, support, and resistance points\n",
    "yf_pd.pivot_points(pivot_interval='1wk')"
   ]
  },
  {
   "cell_type": "markdown",
   "metadata": {},
   "source": [
    "##### Here we plot the ROI of each ticker, assuming they were all bought at the start date with no commission. If adjusted close data exist, then that is considered our initial buy in."
   ]
  },
  {
   "cell_type": "code",
   "execution_count": null,
   "metadata": {},
   "outputs": [],
   "source": [
    "with plt.style.context('bmh'):\n",
    "    fig, ax = plt.subplots(figsize=set_figsize(513))\n",
    "    yf_pd.plot(fig, ax, 'ROI', lw=1)\n",
    "    ax.legend()\n",
    "    fig.tight_layout()"
   ]
  },
  {
   "cell_type": "markdown",
   "metadata": {},
   "source": [
    "##### We can also look at the on balance volume for all tickers. By default this is normalize so that multiple tickers can appear on the same scale; moreover, the quantitative value of OBV is not the statistic one typically considers."
   ]
  },
  {
   "cell_type": "code",
   "execution_count": null,
   "metadata": {},
   "outputs": [],
   "source": [
    "with plt.style.context('bmh'):\n",
    "    fig, ax = plt.subplots(figsize=set_figsize(513))\n",
    "    yf_pd.plot(fig, ax, 'OBV', lw=1)\n",
    "    ax.legend()\n",
    "    fig.tight_layout()"
   ]
  },
  {
   "cell_type": "markdown",
   "metadata": {},
   "source": [
    "### Initalize fetcher\n",
    "\n",
    "##### A tutorial of the fetching module itself, instead of being wrapped in our data analysis class"
   ]
  },
  {
   "cell_type": "code",
   "execution_count": null,
   "metadata": {},
   "outputs": [],
   "source": [
    "from yf_fetcher import yf_fetcher\n",
    "\n",
    "yf_fetcher = yf_fetcher()"
   ]
  },
  {
   "cell_type": "markdown",
   "metadata": {},
   "source": [
    "## Fetch price history\n",
    "\n",
    "The primary feature of this tool is to fetch the historical price history of stocks to perform analysis. This requires a stock ticker, a start and end date, and an invertval at which to sample the prices. To view the valid intervals recognized by YF's API one can call `yf_fetcher.valid_intervals()`."
   ]
  },
  {
   "cell_type": "code",
   "execution_count": null,
   "metadata": {},
   "outputs": [],
   "source": [
    "print(yf_fetcher.valid_intervals())"
   ]
  },
  {
   "cell_type": "markdown",
   "metadata": {},
   "source": [
    "Now we are ready to fetch the historical price data for a few stocks. In this example we fetch Boeing (BA), and Vanguard's Total Stock Market Index Fund Admiral Shares (VTSAX) stock prices at a weekly interval. YF's API takes the dates in seconds since January 1st, 1970 (Unix Time). For those who don't measure time in such a manner they can use the string to Unix time function `str_to_UT()`, which takes the datetime as a string and converts to Unix time (note the stock market clock is set to the US/Eastern timezone).\n",
    "\n",
    "Then we call the `yf_fetcher.fetch_price_history()` function as follows (note that it returns meta data, and price data which we save to the variables meta and data respectively)."
   ]
  },
  {
   "cell_type": "code",
   "execution_count": null,
   "metadata": {},
   "outputs": [],
   "source": [
    "stock = ['BA', 'VTSAX']\n",
    "start = str_to_UT('2009-12-28 00:00:00', timezone='US/Eastern')\n",
    "end = str_to_UT('2010-02-08 00:00:00', timezone='US/Eastern')\n",
    "interval = '1wk'\n",
    "\n",
    "meta, data = yf_fetcher.fetch_price_history(stock, start, end, interval,\n",
    "                                            div=False, split=False,\n",
    "                                            PrePost=False)"
   ]
  },
  {
   "cell_type": "markdown",
   "metadata": {},
   "source": [
    "Since we provided a list of stock tickers, data is a list of pandas dataframes. Let's look at the Boeing stock prices by printing `data['BA']`"
   ]
  },
  {
   "cell_type": "code",
   "execution_count": null,
   "metadata": {},
   "outputs": [],
   "source": [
    "data['BA']"
   ]
  },
  {
   "cell_type": "markdown",
   "metadata": {},
   "source": [
    "## Fetching the fundamentals\n",
    "\n",
    "If you perfer to do analysis based off fundamentals, then the Yahoo Finanace website is probably a more convient interface. However, our fetcher can grab the same data if so desired. For a list of \"modules\" one can grab print the `yf_fetcher.valid_modules()` function."
   ]
  },
  {
   "cell_type": "code",
   "execution_count": null,
   "metadata": {},
   "outputs": [],
   "source": [
    "print(yf_fetcher.valid_modules())"
   ]
  },
  {
   "cell_type": "markdown",
   "metadata": {},
   "source": [
    "As an example, let's grab all the data about Apple (APPL) with the `yf_fetcher.fetch_fundamentals()` function, which takes the stock ticker and the modules you wish to fetch (here we grab all by again calling the `valid_modules()` method)."
   ]
  },
  {
   "cell_type": "code",
   "execution_count": null,
   "metadata": {},
   "outputs": [],
   "source": [
    "fundamentals = yf_fetcher.fetch_fundamentals('AAPL', yf_fetcher.valid_modules())"
   ]
  },
  {
   "cell_type": "markdown",
   "metadata": {},
   "source": [
    "Now our fundamentals variables is a dictionary with all the modules we request, as an example let's look at the calendar events."
   ]
  },
  {
   "cell_type": "code",
   "execution_count": null,
   "metadata": {},
   "outputs": [],
   "source": [
    "fundamentals['calendarEvents']"
   ]
  }
 ],
 "metadata": {
  "kernelspec": {
   "display_name": "Python 3",
   "language": "python",
   "name": "python3"
  },
  "language_info": {
   "codemirror_mode": {
    "name": "ipython",
    "version": 3
   },
   "file_extension": ".py",
   "mimetype": "text/x-python",
   "name": "python",
   "nbconvert_exporter": "python",
   "pygments_lexer": "ipython3",
   "version": "3.7.10"
  }
 },
 "nbformat": 4,
 "nbformat_minor": 4
}
