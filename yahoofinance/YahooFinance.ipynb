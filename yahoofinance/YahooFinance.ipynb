{
 "cells": [
  {
   "cell_type": "markdown",
   "metadata": {},
   "source": [
    "# Yahoo Finance Fetcher tutorial"
   ]
  },
  {
   "cell_type": "code",
   "execution_count": null,
   "metadata": {},
   "outputs": [],
   "source": [
    "from yf_fetcher import yf_fetcher\n",
    "from utils import *"
   ]
  },
  {
   "cell_type": "markdown",
   "metadata": {},
   "source": [
    "### Initalize fetcher"
   ]
  },
  {
   "cell_type": "code",
   "execution_count": null,
   "metadata": {},
   "outputs": [],
   "source": [
    "yf_fetcher = yf_fetcher()"
   ]
  },
  {
   "cell_type": "markdown",
   "metadata": {},
   "source": [
    "## Fetch price history\n",
    "\n",
    "The primary feature of this tool is to fetch the historical price history of stocks to perform analysis. This requires a stock ticker, a start and end date, and an invertval at which to sample the prices. To view the valid intervals recognized by YF's API one can call `yf_fetcher.valid_intervals()`."
   ]
  },
  {
   "cell_type": "code",
   "execution_count": null,
   "metadata": {},
   "outputs": [],
   "source": [
    "print(yf_fetcher.valid_intervals())"
   ]
  },
  {
   "cell_type": "markdown",
   "metadata": {},
   "source": [
    "Now we are ready to fetch the historical price data for a few stocks. In this example we fetch Boeing (BA), and Vanguard's Total Stock Market Index Fund Admiral Shares (VTSAX) stock prices at a weekly interval. YF's API takes the dates in seconds since January 1st, 1970 (Unix Time). For those who don't measure time in such a manner they can use the string to Unix time function `str_to_UT()`, which takes the datetime as a string and converts to Unix time (note the stock market clock is set to the US/Eastern timezone).\n",
    "\n",
    "Then we call the `yf_fetcher.fetch_price_history()` function as follows (note that it returns meta data, and price data which we save to the variables meta and data respectively)."
   ]
  },
  {
   "cell_type": "code",
   "execution_count": null,
   "metadata": {},
   "outputs": [],
   "source": [
    "stock = ['BA', 'VTSAX']\n",
    "start = str_to_UT('2009-12-28 00:00:00', timezone='US/Eastern')\n",
    "end = str_to_UT('2010-02-08 00:00:00', timezone='US/Eastern')\n",
    "interval = '1wk'\n",
    "\n",
    "meta, data = yf_fetcher.fetch_price_history(stock, start, end, interval,\n",
    "                                            div=False, split=False,\n",
    "                                            PrePost=False)"
   ]
  },
  {
   "cell_type": "markdown",
   "metadata": {},
   "source": [
    "Since we provided a list of stock tickers, data is a list of pandas dataframes. Let's look at the Boeing stock prices by printing `data['BA']`"
   ]
  },
  {
   "cell_type": "code",
   "execution_count": null,
   "metadata": {},
   "outputs": [],
   "source": [
    "data['BA']"
   ]
  },
  {
   "cell_type": "markdown",
   "metadata": {},
   "source": [
    "## Fetching the fundamentals\n",
    "\n",
    "If you perfer to do analysis based off fundamentals, then the Yahoo Finanace website is probably a more convient interface. However, our fetcher can grab the same data if so desired. For a list of \"modules\" one can grab print the `yf_fetcher.valid_modules()` function."
   ]
  },
  {
   "cell_type": "code",
   "execution_count": null,
   "metadata": {},
   "outputs": [],
   "source": [
    "print(yf_fetcher.valid_modules())"
   ]
  },
  {
   "cell_type": "markdown",
   "metadata": {},
   "source": [
    "As an example, let's grab all the data about Apple (APPL) with the `yf_fetcher.fetch_fundamentals()` function, which takes the stock ticker and the modules you wish to fetch (here we grab all by again calling the `valid_modules()` method)."
   ]
  },
  {
   "cell_type": "code",
   "execution_count": null,
   "metadata": {},
   "outputs": [],
   "source": [
    "fundamentals = yf_fetcher.fetch_fundamentals('AAPL', yf_fetcher.valid_modules())"
   ]
  },
  {
   "cell_type": "markdown",
   "metadata": {},
   "source": [
    "Now our fundamentals variables is a dictionary with all the modules we request, as an example let's look at the calendar events."
   ]
  },
  {
   "cell_type": "code",
   "execution_count": null,
   "metadata": {},
   "outputs": [],
   "source": [
    "fundamentals['calendarEvents']"
   ]
  },
  {
   "cell_type": "markdown",
   "metadata": {},
   "source": [
    "## Simple analysis\n",
    "\n",
    "With the historical prices we can easily make charts that quickly compare thhe performance of two stocks. Here we compare Boeing (BA) to \n",
    "Vanguard's Short-Term Inflation-Protected Securities Index Fund ETF Shares (VITP). Since the data returned is a panadas dataframe, one can use the built in plotting utilities."
   ]
  },
  {
   "cell_type": "code",
   "execution_count": null,
   "metadata": {},
   "outputs": [],
   "source": [
    "stock = ['BA', 'VTIP']\n",
    "start = str_to_UT('2020-01-01 00:00:00', timezone='US/Eastern')\n",
    "end = str_to_UT('2020-12-01 00:00:00', timezone='US/Eastern')\n",
    "interval = '1d'\n",
    "\n",
    "meta, data = yf_fetcher.fetch_price_history(stock, start, end, interval,\n",
    "                                    div=False, split=False, PrePost=True)\n",
    "\n",
    "ax = (data['VTIP'].iloc[:,2]/data['VTIP'].iloc[0,2]).plot(label='VITP')\n",
    "(data['BA'].iloc[:,2]/data['BA'].iloc[0,2]).plot(ax=ax, label='BA')\n",
    "ax.legend()\n",
    "ax.set_title('Growth since 01/01/2020')\n",
    "ax.set_ylabel('Growth')\n",
    "\n",
    "fig = ax.get_figure()\n",
    "fig.autofmt_xdate()\n",
    "fig.tight_layout()"
   ]
  },
  {
   "cell_type": "markdown",
   "metadata": {},
   "source": [
    "We can look at VTIP growth of the close and the adjust close, by normalizing by the starting prices."
   ]
  },
  {
   "cell_type": "code",
   "execution_count": null,
   "metadata": {},
   "outputs": [],
   "source": [
    "data['VTIP'].iloc[:,1:3]/data['VTIP'].iloc[0,1:3]"
   ]
  },
  {
   "cell_type": "markdown",
   "metadata": {},
   "source": [
    "We can also look at the true value of a stock compared to its nomial price by plotting the adjusted close and close prices of a stock, here we use VTSAX."
   ]
  },
  {
   "cell_type": "code",
   "execution_count": null,
   "metadata": {},
   "outputs": [],
   "source": [
    "stock = 'VTSAX'\n",
    "start = str_to_UT('1960-01-01 04:00:00', timezone='US/Eastern')\n",
    "end = str_to_UT('2020-01-01 20:00:00', timezone='US/Eastern')\n",
    "\n",
    "xmeta, data = yf_fetcher.fetch_price_history(stock, start, end, '3mo',\n",
    "                    div=True, split=False, PrePost=True)\n",
    "\n",
    "\n",
    "ax = data.iloc[:,1:3].plot()\n",
    "ax.legend()\n",
    "ax.set_yscale('log')\n",
    "ax.set_ylabel('{:s} ({:s})'.format(xmeta['symbol'], xmeta['currency']))\n",
    "\n",
    "fig = ax.get_figure()\n",
    "fig.autofmt_xdate()\n",
    "fig.tight_layout()"
   ]
  }
 ],
 "metadata": {
  "kernelspec": {
   "display_name": "Python 3",
   "language": "python",
   "name": "python3"
  },
  "language_info": {
   "codemirror_mode": {
    "name": "ipython",
    "version": 3
   },
   "file_extension": ".py",
   "mimetype": "text/x-python",
   "name": "python",
   "nbconvert_exporter": "python",
   "pygments_lexer": "ipython3",
   "version": "3.7.7"
  }
 },
 "nbformat": 4,
 "nbformat_minor": 4
}
